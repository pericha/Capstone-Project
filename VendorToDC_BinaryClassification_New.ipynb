{
 "cells": [
  {
   "cell_type": "code",
   "execution_count": 1,
   "id": "9923e554",
   "metadata": {},
   "outputs": [],
   "source": [
    "import pandas as pd\n",
    "import numpy as np\n",
    "import matplotlib.pyplot as plt\n",
    "from matplotlib.ticker import PercentFormatter\n",
    "import seaborn as sns\n",
    "\n",
    "import warnings\n",
    "warnings.filterwarnings(\"ignore\")"
   ]
  },
  {
   "cell_type": "code",
   "execution_count": 82,
   "id": "334e0f31",
   "metadata": {},
   "outputs": [
    {
     "name": "stderr",
     "output_type": "stream",
     "text": [
      "ERROR: Could not find a version that satisfies the requirement evolutionary-search\n",
      "ERROR: No matching distribution found for evolutionary-search\n"
     ]
    }
   ],
   "source": [
    "#!pip install matplotlib==2.2.0\n",
    "#!pip install sklearn-genetic"
   ]
  },
  {
   "cell_type": "code",
   "execution_count": 2,
   "id": "603fe142",
   "metadata": {},
   "outputs": [
    {
     "name": "stdout",
     "output_type": "stream",
     "text": [
      "sheets in file:  ['Summary', 'Vendor 1 2020', 'Vendor 2 2020', 'Vendor 3 2020', 'Vendor 4 2020', 'Vendor 5 2020', 'Vendor 6 2020', 'Vendor 1 2021', 'Vendor 2 2021', 'Vendor 3 2021', 'Vendor 4 2021', 'Vendor 5 2021', 'Vendor 6 2021']\n",
      "(196235, 16)\n",
      "  BUS_GRP_NM  DIVISION  YEAR  VEND_NUM DST_CNTR  FACILITY  CORP_ITEM_CD  \\\n",
      "0     BAKERY        17  2020         1     WPHX      1721      94984302   \n",
      "1     BAKERY        19  2020         1     WPOA      5316      94984302   \n",
      "2     BAKERY        20  2020         1     WDAL      2018      94984302   \n",
      "3     BAKERY        20  2020         1     WDAL      2018      94984302   \n",
      "4     BAKERY        20  2020         1     WDAL      2018      94984302   \n",
      "\n",
      "   DAYS_LATE  PO_NUM  ORDERED  AMT_RECV  SHORTED  FILLRATE     PO_ORD  \\\n",
      "0          3  981010      937       937        0     100.0 2019-12-13   \n",
      "1          0  674833      500       500        0     100.0 2019-12-02   \n",
      "2          0  514961      668       668        0     100.0 2019-12-12   \n",
      "3          0  516795      597       529       68      88.6 2019-12-19   \n",
      "4          5  514960      550       550        0     100.0 2019-12-12   \n",
      "\n",
      "      PO_DUE  DATE_RECV  \n",
      "0 2020-01-06 2020-01-09  \n",
      "1 2020-01-02 2020-01-02  \n",
      "2 2020-01-02 2020-01-02  \n",
      "3 2020-01-13 2020-01-13  \n",
      "4 2020-01-09 2020-01-14  \n"
     ]
    }
   ],
   "source": [
    "#Read files\n",
    "vtodc_file = r'C:\\D_Drive\\Data\\ASU Project.Vendor Fill Rate data 2020.2021 - adjusted.xlsx'\n",
    "\n",
    "\n",
    "excel_file = pd.ExcelFile(vtodc_file)\n",
    "sheets = excel_file.sheet_names\n",
    "print('sheets in file: ',sheets)\n",
    "vtodc_df=pd.DataFrame()\n",
    "# loop through sheets inside an Excel file\n",
    "for sheet in sheets: \n",
    "    if sheet!='Summary':\n",
    "        #print(sheet)\n",
    "        df = excel_file.parse(sheet_name = sheet)\n",
    "        vtodc_df = vtodc_df.append(df)\n",
    "\n",
    "excel_file.close()\n",
    "print(vtodc_df.shape)\n",
    "print(vtodc_df.head())\n"
   ]
  },
  {
   "cell_type": "code",
   "execution_count": 3,
   "id": "a99e991d",
   "metadata": {},
   "outputs": [
    {
     "data": {
      "text/plain": [
       "BUS_GRP_NM      0\n",
       "DIVISION        0\n",
       "YEAR            0\n",
       "VEND_NUM        0\n",
       "DST_CNTR        0\n",
       "FACILITY        0\n",
       "CORP_ITEM_CD    0\n",
       "DAYS_LATE       0\n",
       "PO_NUM          0\n",
       "ORDERED         0\n",
       "AMT_RECV        0\n",
       "SHORTED         0\n",
       "FILLRATE        0\n",
       "PO_ORD          0\n",
       "PO_DUE          0\n",
       "DATE_RECV       0\n",
       "dtype: int64"
      ]
     },
     "execution_count": 3,
     "metadata": {},
     "output_type": "execute_result"
    }
   ],
   "source": [
    "vtodc_df.isnull().sum().sort_values(ascending=False)"
   ]
  },
  {
   "cell_type": "code",
   "execution_count": 4,
   "id": "a13dc345",
   "metadata": {},
   "outputs": [
    {
     "data": {
      "text/plain": [
       "count    196235.000000\n",
       "mean         92.445693\n",
       "std         236.543128\n",
       "min           0.000000\n",
       "25%         100.000000\n",
       "50%         100.000000\n",
       "75%         100.000000\n",
       "max       67600.000000\n",
       "Name: FILLRATE, dtype: float64"
      ]
     },
     "execution_count": 4,
     "metadata": {},
     "output_type": "execute_result"
    }
   ],
   "source": [
    "vtodc_df['FILLRATE'].describe()"
   ]
  },
  {
   "cell_type": "code",
   "execution_count": 5,
   "id": "30a2e2b4",
   "metadata": {},
   "outputs": [],
   "source": [
    "vtodc_df['MONTH'] = vtodc_df['DATE_RECV'].dt.month\n",
    "vtodc_df['WEEK'] = vtodc_df['DATE_RECV'].dt.week\n",
    "vtodc_df['DAY'] = vtodc_df['DATE_RECV'].dt.day"
   ]
  },
  {
   "cell_type": "code",
   "execution_count": 6,
   "id": "5ada301a",
   "metadata": {},
   "outputs": [
    {
     "data": {
      "text/plain": [
       "10    18166\n",
       "3     17543\n",
       "9     17519\n",
       "4     17471\n",
       "6     17427\n",
       "8     16846\n",
       "11    16398\n",
       "7     16156\n",
       "5     15935\n",
       "12    15002\n",
       "2     14166\n",
       "1     13606\n",
       "Name: MONTH, dtype: int64"
      ]
     },
     "execution_count": 6,
     "metadata": {},
     "output_type": "execute_result"
    }
   ],
   "source": [
    "vtodc_df['MONTH'].value_counts()"
   ]
  },
  {
   "cell_type": "code",
   "execution_count": 11,
   "id": "3a3258db",
   "metadata": {},
   "outputs": [
    {
     "name": "stdout",
     "output_type": "stream",
     "text": [
      "1    176179\n",
      "0     20056\n",
      "Name: OrderFulfillment, dtype: int64\n"
     ]
    }
   ],
   "source": [
    "vtodc_df['OrderFulfillment']=np.where(vtodc_df['FILLRATE']>=80,1,0)\n",
    "print(vtodc_df['OrderFulfillment'].value_counts())"
   ]
  },
  {
   "cell_type": "code",
   "execution_count": 64,
   "id": "b5c69bfe",
   "metadata": {},
   "outputs": [
    {
     "name": "stdout",
     "output_type": "stream",
     "text": [
      "(5000, 20)\n",
      "0    2511\n",
      "1    2489\n",
      "Name: OrderFulfillment, dtype: int64\n"
     ]
    }
   ],
   "source": [
    "#Creating final test or hold-out set\n",
    "test=vtodc_df.copy().sample(5000)\n",
    "print(test.shape)\n",
    "print(test['OrderFulfillment'].value_counts())"
   ]
  },
  {
   "cell_type": "code",
   "execution_count": 66,
   "id": "036e24c7",
   "metadata": {},
   "outputs": [
    {
     "data": {
      "text/plain": [
       "(40112, 20)"
      ]
     },
     "execution_count": 66,
     "metadata": {},
     "output_type": "execute_result"
    }
   ],
   "source": [
    "#UnderSampling: Since this is an imbalanced dataset, sampling equal number of datapoints from both clases\n",
    "vtodc_df_1=vtodc_df.copy().query(\"OrderFulfillment==1\")\n",
    "vtodc_df_0=vtodc_df.copy().query(\"OrderFulfillment==0\")\n",
    "vtodc_df_1=vtodc_df_1.copy().sample(len(vtodc_df_0))\n",
    "len(vtodc_df_1)\n",
    "train=pd.concat([vtodc_df_0,vtodc_df_1], axis=0)\n",
    "train.shape"
   ]
  },
  {
   "cell_type": "code",
   "execution_count": 68,
   "id": "eb599a1e",
   "metadata": {},
   "outputs": [
    {
     "name": "stdout",
     "output_type": "stream",
     "text": [
      "0    20056\n",
      "1    20056\n",
      "Name: OrderFulfillment, dtype: int64\n",
      "0    2511\n",
      "1    2489\n",
      "Name: OrderFulfillment, dtype: int64\n"
     ]
    }
   ],
   "source": [
    "#Check Target column distribution in train and test data\n",
    "print(train['OrderFulfillment'].value_counts())\n",
    "print(test['OrderFulfillment'].value_counts())"
   ]
  },
  {
   "cell_type": "code",
   "execution_count": 69,
   "id": "64bdb68e",
   "metadata": {},
   "outputs": [
    {
     "name": "stdout",
     "output_type": "stream",
     "text": [
      "BUS_GRP_NM                  object\n",
      "DIVISION                    object\n",
      "YEAR                         int64\n",
      "VEND_NUM                    object\n",
      "DST_CNTR                    object\n",
      "FACILITY                    object\n",
      "CORP_ITEM_CD                object\n",
      "DAYS_LATE                    int64\n",
      "PO_NUM                       int64\n",
      "ORDERED                      int64\n",
      "AMT_RECV                     int64\n",
      "SHORTED                      int64\n",
      "FILLRATE                   float64\n",
      "PO_ORD              datetime64[ns]\n",
      "PO_DUE              datetime64[ns]\n",
      "DATE_RECV           datetime64[ns]\n",
      "MONTH                       object\n",
      "WEEK                        object\n",
      "DAY                         object\n",
      "OrderFulfillment             int32\n",
      "dtype: object\n",
      "BUS_GRP_NM                  object\n",
      "DIVISION                    object\n",
      "YEAR                         int64\n",
      "VEND_NUM                    object\n",
      "DST_CNTR                    object\n",
      "FACILITY                    object\n",
      "CORP_ITEM_CD                object\n",
      "DAYS_LATE                    int64\n",
      "PO_NUM                       int64\n",
      "ORDERED                      int64\n",
      "AMT_RECV                     int64\n",
      "SHORTED                      int64\n",
      "FILLRATE                   float64\n",
      "PO_ORD              datetime64[ns]\n",
      "PO_DUE              datetime64[ns]\n",
      "DATE_RECV           datetime64[ns]\n",
      "MONTH                       object\n",
      "WEEK                        object\n",
      "DAY                         object\n",
      "OrderFulfillment             int32\n",
      "dtype: object\n"
     ]
    }
   ],
   "source": [
    "#Data cleaning\n",
    "train[['CORP_ITEM_CD','DIVISION','VEND_NUM','FACILITY','MONTH','WEEK','DAY']]=train[['CORP_ITEM_CD','DIVISION','VEND_NUM','FACILITY','MONTH','WEEK','DAY']].astype(str)\n",
    "test[['CORP_ITEM_CD','DIVISION','VEND_NUM','FACILITY','MONTH','WEEK','DAY']]=test[['CORP_ITEM_CD','DIVISION','VEND_NUM','FACILITY','MONTH','WEEK','DAY']].astype(str)\n",
    "\n",
    "print(test.dtypes)\n",
    "print(train.dtypes)"
   ]
  },
  {
   "cell_type": "code",
   "execution_count": 70,
   "id": "ef047815",
   "metadata": {
    "scrolled": true
   },
   "outputs": [
    {
     "name": "stdout",
     "output_type": "stream",
     "text": [
      "BUS_GRP_NM          object\n",
      "DIVISION            object\n",
      "VEND_NUM            object\n",
      "DST_CNTR            object\n",
      "FACILITY            object\n",
      "CORP_ITEM_CD        object\n",
      "DAYS_LATE            int64\n",
      "ORDERED              int64\n",
      "MONTH               object\n",
      "WEEK                object\n",
      "DAY                 object\n",
      "OrderFulfillment     int32\n",
      "dtype: object\n",
      "BUS_GRP_NM          object\n",
      "DIVISION            object\n",
      "VEND_NUM            object\n",
      "DST_CNTR            object\n",
      "FACILITY            object\n",
      "CORP_ITEM_CD        object\n",
      "DAYS_LATE            int64\n",
      "ORDERED              int64\n",
      "MONTH               object\n",
      "WEEK                object\n",
      "DAY                 object\n",
      "OrderFulfillment     int32\n",
      "dtype: object\n"
     ]
    }
   ],
   "source": [
    "del train['YEAR']\n",
    "del train['FILLRATE']\n",
    "del train['PO_NUM']\n",
    "del train['PO_ORD']\n",
    "del train['PO_DUE']\n",
    "del train['DATE_RECV']\n",
    "del train['SHORTED']\n",
    "del train['AMT_RECV']\n",
    "print(train.dtypes)\n",
    "del test['YEAR']\n",
    "del test['FILLRATE']\n",
    "del test['PO_NUM']\n",
    "del test['PO_ORD']\n",
    "del test['PO_DUE']\n",
    "del test['DATE_RECV']\n",
    "del test['SHORTED']\n",
    "del test['AMT_RECV']\n",
    "print(test.dtypes)"
   ]
  },
  {
   "cell_type": "code",
   "execution_count": 71,
   "id": "fdfc25b5",
   "metadata": {},
   "outputs": [
    {
     "name": "stdout",
     "output_type": "stream",
     "text": [
      "Train Set shape:\n",
      "(40112, 11)\n",
      "(40112, 1)\n",
      "Test Set shape:\n",
      "(5000, 11)\n",
      "(5000, 1)\n"
     ]
    }
   ],
   "source": [
    "# Seperate Target column from Train Data\n",
    "TrainCols = list(train.columns.values)\n",
    "Xtrain = train[TrainCols[0:len(TrainCols)-1]].copy()\n",
    "Ytrain = train[['OrderFulfillment']].copy()\n",
    "print(\"Train Set shape:\")\n",
    "print(Xtrain.shape)\n",
    "print(Ytrain.shape)\n",
    "TestCols = list(test.columns.values)\n",
    "Xtest = test[TrainCols[0:len(TrainCols)-1]].copy()\n",
    "Ytest = test[['OrderFulfillment']].copy()\n",
    "print(\"Test Set shape:\")\n",
    "print(Xtest.shape)\n",
    "print(Ytest.shape)"
   ]
  },
  {
   "cell_type": "code",
   "execution_count": 72,
   "id": "c425bc03",
   "metadata": {},
   "outputs": [],
   "source": [
    "#List of Categorical & Continous Features\n",
    "CategoricalFeatures = ['BUS_GRP_NM','CORP_ITEM_CD','DIVISION','VEND_NUM','FACILITY','MONTH','WEEK','DAY']\n",
    "\n",
    "ContinousFeatures = ['DAYS_LATE','ORDERED']"
   ]
  },
  {
   "cell_type": "code",
   "execution_count": 73,
   "id": "df5757fd",
   "metadata": {},
   "outputs": [
    {
     "name": "stdout",
     "output_type": "stream",
     "text": [
      "(40112, 788)\n",
      "(5000, 788)\n"
     ]
    }
   ],
   "source": [
    "# OneHotEncoding (fit & transform)\n",
    "# OneHotEncoding is to be done on Categorical variables after joining train and test data\n",
    "pd.options.mode.chained_assignment = None\n",
    "Xtrain['Dataset']=1\n",
    "Xtest['Dataset']=0\n",
    "combined=pd.concat([Xtrain,Xtest])\n",
    "df=pd.get_dummies(combined[CategoricalFeatures])\n",
    "combined=pd.concat([combined[ContinousFeatures],combined[\"Dataset\"],df],axis=1)\n",
    "#Seperating the train and test data after OneHotEncoding\n",
    "Xtrain=combined[combined['Dataset']==1]\n",
    "Xtest=combined[combined['Dataset']==0]\n",
    "Xtrain.drop(['Dataset'],axis=1,inplace=True)\n",
    "Xtest.drop(['Dataset'],axis=1,inplace=True)\n",
    "print(Xtrain.shape)\n",
    "print(Xtest.shape)\n"
   ]
  },
  {
   "cell_type": "code",
   "execution_count": 74,
   "id": "6a679feb",
   "metadata": {},
   "outputs": [],
   "source": [
    "import pandas as pd\n",
    "import numpy as np\n",
    "from sklearn.tree import DecisionTreeClassifier\n",
    "from sklearn.metrics import confusion_matrix,classification_report\n",
    "from sklearn.model_selection import train_test_split # Import train_test_split function\n",
    "from sklearn import metrics #Import scikit-learn metrics module for accuracy calculation\n",
    "from sklearn import tree\n",
    "from sklearn.metrics import roc_curve, auc\n",
    "import matplotlib.pyplot as plt #To plot graphs"
   ]
  },
  {
   "cell_type": "code",
   "execution_count": 75,
   "id": "bfce1b2e",
   "metadata": {},
   "outputs": [
    {
     "name": "stdout",
     "output_type": "stream",
     "text": [
      "(28078, 788) (28078, 1)\n",
      "(12034, 788) (12034, 1)\n"
     ]
    }
   ],
   "source": [
    "# Split dataset\n",
    "X_train, X_test, Y_train, Y_test = train_test_split(Xtrain, Ytrain, test_size = .30, random_state = 7, stratify=Ytrain)\n",
    "print(X_train.shape,Y_train.shape)\n",
    "print(X_test.shape,Y_test.shape)"
   ]
  },
  {
   "cell_type": "code",
   "execution_count": 77,
   "id": "da5c965d",
   "metadata": {},
   "outputs": [
    {
     "name": "stdout",
     "output_type": "stream",
     "text": [
      "Accuracy Score (training data) for Decision Tree:0.999822\n",
      "Accuracy Score (validation data) for Decision Tree:0.705667\n",
      "AUC score on validation data: 0.7056672760511884\n",
      "Confusion Matrix for Decision Tree\n",
      "[[4309 1708]\n",
      " [1834 4183]]\n",
      "Printing the precision and recall, among other metrics\n",
      "              precision    recall  f1-score   support\n",
      "\n",
      "           0       0.70      0.72      0.71      6017\n",
      "           1       0.71      0.70      0.70      6017\n",
      "\n",
      "    accuracy                           0.71     12034\n",
      "   macro avg       0.71      0.71      0.71     12034\n",
      "weighted avg       0.71      0.71      0.71     12034\n",
      "\n"
     ]
    }
   ],
   "source": [
    "#CONSTRUCT DEFAULT DECISION TREE AND OBTAIN RESPECTIVE ACCURACY \n",
    "clf = DecisionTreeClassifier()\n",
    "clf.fit(X_train,Y_train)\n",
    "clf_predict=clf.predict(X_test)\n",
    "print(\"Accuracy Score (training data) for Decision Tree:{0:6f}\".format(clf.score(X_train,Y_train)))\n",
    "print(\"Accuracy Score (validation data) for Decision Tree:{0:6f}\".format(clf.score(X_test,Y_test)))\n",
    "print(\"AUC score on validation data:\", metrics.roc_auc_score(Y_test,clf_predict))\n",
    "print(\"Confusion Matrix for Decision Tree\")\n",
    "print(confusion_matrix(Y_test,clf_predict))\n",
    "print('Printing the precision and recall, among other metrics')\n",
    "print(metrics.classification_report(Y_test, clf_predict))"
   ]
  },
  {
   "cell_type": "code",
   "execution_count": 78,
   "id": "770b6589",
   "metadata": {},
   "outputs": [
    {
     "name": "stdout",
     "output_type": "stream",
     "text": [
      "Accuracy Score (training data) for Naive Bayes:0.689864\n",
      "Accuracy Score (validation data) for Naive Bayes:0.684560\n",
      "AUC score on validation data: 0.6845604121655311\n",
      "Confusion Matrix for Decision Tree\n",
      "[[5089  928]\n",
      " [2868 3149]]\n",
      "Printing the precision and recall, among other metrics\n",
      "              precision    recall  f1-score   support\n",
      "\n",
      "           0       0.64      0.85      0.73      6017\n",
      "           1       0.77      0.52      0.62      6017\n",
      "\n",
      "    accuracy                           0.68     12034\n",
      "   macro avg       0.71      0.68      0.68     12034\n",
      "weighted avg       0.71      0.68      0.68     12034\n",
      "\n"
     ]
    }
   ],
   "source": [
    "#Import Gaussian Naive Bayes model\n",
    "from sklearn.naive_bayes import GaussianNB\n",
    "#Create a Gaussian Classifier\n",
    "nb = GaussianNB()\n",
    "# Train the model using the training sets\n",
    "nb.fit(X_train,Y_train)\n",
    "#Predict Output\n",
    "nb_predict=nb.predict(X_test)\n",
    "#predicted= model.predict([[0,2]]) # 0:Overcast, 2:Mild\n",
    "print(\"Accuracy Score (training data) for Naive Bayes:{0:6f}\".format(nb.score(X_train,Y_train)))\n",
    "print(\"Accuracy Score (validation data) for Naive Bayes:{0:6f}\".format(nb.score(X_test,Y_test)))\n",
    "print(\"AUC score on validation data:\", metrics.roc_auc_score(Y_test,nb_predict))\n",
    "print(\"Confusion Matrix for Decision Tree\")\n",
    "print(confusion_matrix(Y_test,nb_predict))\n",
    "print('Printing the precision and recall, among other metrics')\n",
    "print(metrics.classification_report(Y_test, nb_predict))"
   ]
  },
  {
   "cell_type": "code",
   "execution_count": 48,
   "id": "15b1dca5",
   "metadata": {},
   "outputs": [
    {
     "name": "stdout",
     "output_type": "stream",
     "text": [
      "   BUS_GRP_NM DIVISION VEND_NUM DST_CNTR FACILITY CORP_ITEM_CD  DAYS_LATE  \\\n",
      "4      BAKERY       19        1     WPOA     5316     95100794          0   \n",
      "7      BAKERY       25        1     WNCA     2533     95100794          0   \n",
      "8      BAKERY       25        1     WNCA     2533     95100794          0   \n",
      "23     BAKERY       30        1     WSLC     5217     95100794          3   \n",
      "24     BAKERY        5        1     WDEN      512     95100796          1   \n",
      "\n",
      "    ORDERED MONTH WEEK DAY  OrderFulfillment  OrderFulfillment_PredictFlag  \n",
      "4       300    12   50  15                 0                             1  \n",
      "7       930    12   48   2                 0                             1  \n",
      "8       930    12   49   9                 0                             1  \n",
      "23      300    12   48   2                 0                             1  \n",
      "24      510    12   50  14                 1                             1  \n"
     ]
    }
   ],
   "source": [
    "#Save predictions on actual test data\n",
    "clf_testpred = gbc_hp.predict(Xtest)\n",
    "df_DT=pd.DataFrame()\n",
    "df_DT= finaldf\n",
    "df_DT['OrderFulfillment_PredictFlag']= clf_testpred\n",
    "#df_DT.reset_index(drop=True, inplace=True)\n",
    "print (df_DT.head(3))\n",
    "export_csv = df_DT.to_csv(r'C:\\D_Drive\\Data\\VtoDC_Test.csv',index = False)\n"
   ]
  },
  {
   "cell_type": "code",
   "execution_count": null,
   "id": "e65e45c2",
   "metadata": {},
   "outputs": [],
   "source": []
  }
 ],
 "metadata": {
  "kernelspec": {
   "display_name": "Python 3",
   "language": "python",
   "name": "python3"
  },
  "language_info": {
   "codemirror_mode": {
    "name": "ipython",
    "version": 3
   },
   "file_extension": ".py",
   "mimetype": "text/x-python",
   "name": "python",
   "nbconvert_exporter": "python",
   "pygments_lexer": "ipython3",
   "version": "3.8.8"
  }
 },
 "nbformat": 4,
 "nbformat_minor": 5
}
